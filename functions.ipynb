{
 "cells": [
  {
   "cell_type": "code",
   "execution_count": 57,
   "metadata": {},
   "outputs": [],
   "source": [
    "from scoperty_utils import read_source_parquet"
   ]
  },
  {
   "cell_type": "code",
   "execution_count": 37,
   "metadata": {},
   "outputs": [],
   "source": [
    "def find_lat_long(\n",
    "        city:str\n",
    "        ,zip_code:int\n",
    "        ,street_name:str\n",
    "        ,street_number):\n",
    "\n",
    "    \"\"\"Return lat and lon for a searched property\n",
    "\n",
    "    Returns:\n",
    "        Dataframe with lat and lon\n",
    "    \"\"\"\n",
    "    \n",
    "    df = read_source_parquet('consumerZone/scoperty-properties.parquet.gzip')\n",
    "\n",
    "    street_name = street_name.split(' ')[0]\n",
    "\n",
    "    street_number = str(street_number)\n",
    "\n",
    "    return df.loc[(df[\"city\"] == city) \n",
    "                    & (df[\"zip_code\"] == zip_code)\n",
    "                    & (df[\"street_name\"].str.contains(street_name))\n",
    "                    & (df[\"street_number\"] == street_number)\n",
    "                    , [\"lon\",\"lat\"]]"
   ]
  },
  {
   "cell_type": "code",
   "execution_count": 38,
   "metadata": {},
   "outputs": [
    {
     "data": {
      "text/html": [
       "<div>\n",
       "<style scoped>\n",
       "    .dataframe tbody tr th:only-of-type {\n",
       "        vertical-align: middle;\n",
       "    }\n",
       "\n",
       "    .dataframe tbody tr th {\n",
       "        vertical-align: top;\n",
       "    }\n",
       "\n",
       "    .dataframe thead th {\n",
       "        text-align: right;\n",
       "    }\n",
       "</style>\n",
       "<table border=\"1\" class=\"dataframe\">\n",
       "  <thead>\n",
       "    <tr style=\"text-align: right;\">\n",
       "      <th></th>\n",
       "      <th>lon</th>\n",
       "      <th>lat</th>\n",
       "    </tr>\n",
       "  </thead>\n",
       "  <tbody>\n",
       "    <tr>\n",
       "      <th>9998</th>\n",
       "      <td>11.029574</td>\n",
       "      <td>49.48853</td>\n",
       "    </tr>\n",
       "  </tbody>\n",
       "</table>\n",
       "</div>"
      ],
      "text/plain": [
       "            lon       lat\n",
       "9998  11.029574  49.48853"
      ]
     },
     "execution_count": 38,
     "metadata": {},
     "output_type": "execute_result"
    }
   ],
   "source": [
    "# test the function\n",
    "find_lat_long(\"Nürnberg\",90427,\"Höfleser\",77)"
   ]
  },
  {
   "cell_type": "code",
   "execution_count": 39,
   "metadata": {},
   "outputs": [
    {
     "name": "stdout",
     "output_type": "stream",
     "text": [
      "Most expensive zip code: 90453 \n",
      "Least expensive zip code: 90402\n"
     ]
    }
   ],
   "source": [
    "def min_max_pricy_zip_code() -> str:\n",
    "\n",
    "    \"\"\"Read consumer zone to retrieve most and least expensive zip codes in strings\n",
    "\n",
    "    Returns:\n",
    "        string\n",
    "    \"\"\"\n",
    "\n",
    "    df = read_source_parquet('consumerZone/scoperty-properties.parquet.gzip')\n",
    "\n",
    "    max_id = df['zip_code'][df['price'].idxmax()]\n",
    "    min_id = df['zip_code'][df['price'].idxmin()]\n",
    "    return print(f'Most expensive zip code: {max_id} \\nLeast expensive zip code: {min_id}')\n",
    "\n",
    "min_max_pricy_zip_code()"
   ]
  }
 ],
 "metadata": {
  "interpreter": {
   "hash": "aee8b7b246df8f9039afb4144a1f6fd8d2ca17a180786b69acc140d282b71a49"
  },
  "kernelspec": {
   "display_name": "Python 3.9.7 64-bit",
   "language": "python",
   "name": "python3"
  },
  "language_info": {
   "codemirror_mode": {
    "name": "ipython",
    "version": 3
   },
   "file_extension": ".py",
   "mimetype": "text/x-python",
   "name": "python",
   "nbconvert_exporter": "python",
   "pygments_lexer": "ipython3",
   "version": "3.9.7"
  },
  "orig_nbformat": 4
 },
 "nbformat": 4,
 "nbformat_minor": 2
}
